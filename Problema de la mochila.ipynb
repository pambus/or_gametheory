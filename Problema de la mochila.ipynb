{
 "cells": [
  {
   "cell_type": "markdown",
   "metadata": {},
   "source": [
    "# Problema de la Mochila\n",
    "##### Autor: Pamela Bustamante"
   ]
  },
  {
   "cell_type": "markdown",
   "metadata": {},
   "source": [
    "Descripción del problema: Tenemos $n$ artículos y una mochila de capacidad $V$. Cada artículo $i$ tiene una determinada utilidad $u_i$ y peso $v_i$. Queremos elegir qué artículos llevar en la mochila, maximizando la utilidad obtenida y sin sobrepasar la capacidad de la mochila.\n",
    "\n",
    "Vamos a definir un modelo de optimización para solucionar este problema."
   ]
  },
  {
   "cell_type": "markdown",
   "metadata": {},
   "source": [
    "#### Definición de Variables\n",
    "\n",
    "$$ x_i=\\left\\{\n",
    "\\begin{array}{ll}\n",
    "      1 & \\text{Si el artículo i se coloca en la mochila} \\\\\n",
    "      0 & \\text{En otro caso} \\\\\n",
    "\\end{array} \\; \\forall i \\in [0,...,n]\n",
    "\\right.  $$"
   ]
  },
  {
   "cell_type": "markdown",
   "metadata": {},
   "source": [
    "#### Modelo de optimización\n",
    "\\begin{align}\n",
    "\\text{max } & \\sum_i u_i x_i \\\\\n",
    "\\text{s.a} & \\\\\n",
    "&\\sum_i v_i x_i \\le V & \\forall i \\in [0,...,n]\\\\\n",
    "& x_i \\in [0,1] & \\forall i \\in [0,...,n] \\\\\n",
    "\\end{align}"
   ]
  },
  {
   "cell_type": "markdown",
   "metadata": {},
   "source": [
    "#### Modelo en Python + Cplex"
   ]
  },
  {
   "cell_type": "code",
   "execution_count": 11,
   "metadata": {},
   "outputs": [],
   "source": [
    "import random\n",
    "import cplex  "
   ]
  },
  {
   "cell_type": "markdown",
   "metadata": {},
   "source": [
    "Se define función para generar pesos y utilidades de artículos"
   ]
  },
  {
   "cell_type": "code",
   "execution_count": 12,
   "metadata": {},
   "outputs": [],
   "source": [
    "def generate_instance(n):\n",
    "    #Se definen utilidades y peso de artículos, y límite máximo de peso de mochila \n",
    "\n",
    "    u,v = {}, {}\n",
    "    for i in range(n):\n",
    "        u[i] = random.randint(0,100)\n",
    "        v[i] = random.randint(0,100)\n",
    "\n",
    "    C = random.uniform(0,1)*sum(v[i] for i in range(n))\n",
    "    return u,v,C\n"
   ]
  },
  {
   "cell_type": "markdown",
   "metadata": {},
   "source": [
    "Se define función para generar modelo"
   ]
  },
  {
   "cell_type": "code",
   "execution_count": 13,
   "metadata": {},
   "outputs": [],
   "source": [
    "def mochila(n, V, u, v): \n",
    "\n",
    "    #Definición de modelo.\n",
    "    model = cplex.Cplex() # Se crea un object model.\n",
    "    model.set_problem_name(\"Knapsack\")\n",
    "    \n",
    "    #B = binario\n",
    "    #obj representa los coeficientes de las variables en la funcion objetivo\n",
    "    #Valor obj por defecto= 0\n",
    "    model.variables.add(names=[\"x[{0}]\".format(i) for i in range(n)], types = ['B']*n, obj = [u[i] for i in range(n)])\n",
    "    \n",
    "\n",
    "    #Se declara que problema es de maximización. Por defecto, problema es de minimizacion\n",
    "    model.objective.set_sense(model.objective.sense.maximize)\n",
    "\n",
    "    #Se declara la restricción de capacidad\n",
    "    coef = [v[i] for i in range(n)]  # coef e índices deben ser de la misma dimensión, en otro caso se genera un error.\n",
    "    indices = [\"x[{0}]\".format(i) for i in range(n)]\n",
    "    sumq = cplex.SparsePair(ind=indices,val=coef)  #Se declara una expresión lineal\n",
    "    print(sumq)\n",
    "    print(V)\n",
    "    model.linear_constraints.add(lin_expr=[sumq],senses='L',rhs=[V]) # L menor o igual; G mayor o igual; E igual\n",
    "    \n",
    "    return model\n"
   ]
  },
  {
   "cell_type": "markdown",
   "metadata": {},
   "source": [
    "Ejemplo de un problema de mochila"
   ]
  },
  {
   "cell_type": "code",
   "execution_count": 14,
   "metadata": {},
   "outputs": [
    {
     "name": "stdout",
     "output_type": "stream",
     "text": [
      "SparsePair(ind = ['x[0]', 'x[1]', 'x[2]', 'x[3]', 'x[4]', 'x[5]', 'x[6]', 'x[7]', 'x[8]', 'x[9]'], val = [81, 54, 6, 15, 44, 1, 96, 49, 23, 52])\n",
      "192.85615689584452\n",
      "Version identifier: 12.10.0.0 | 2019-11-27 | 843d4de2ae\n",
      "CPXPARAM_Read_DataCheck                          1\n",
      "Found incumbent of value 0.000000 after 0.00 sec. (0.00 ticks)\n",
      "Tried aggregator 1 time.\n",
      "MIP Presolve added 1 rows and 1 columns.\n",
      "MIP Presolve modified 1 coefficients.\n",
      "Reduced MIP has 2 rows, 11 columns, and 13 nonzeros.\n",
      "Reduced MIP has 10 binaries, 1 generals, 0 SOSs, and 0 indicators.\n",
      "Presolve time = 0.02 sec. (0.01 ticks)\n",
      "Probing time = 0.00 sec. (0.00 ticks)\n",
      "Tried aggregator 1 time.\n",
      "Detecting symmetries...\n",
      "MIP Presolve eliminated 1 rows and 1 columns.\n",
      "MIP Presolve added 1 rows and 1 columns.\n",
      "Reduced MIP has 2 rows, 11 columns, and 13 nonzeros.\n",
      "Reduced MIP has 10 binaries, 1 generals, 0 SOSs, and 0 indicators.\n",
      "Presolve time = 0.02 sec. (0.01 ticks)\n",
      "Probing time = 0.00 sec. (0.00 ticks)\n",
      "MIP emphasis: balance optimality and feasibility.\n",
      "MIP search method: dynamic search.\n",
      "Parallel mode: deterministic, using up to 4 threads.\n",
      "Root relaxation solution time = 0.00 sec. (0.01 ticks)\n",
      "\n",
      "        Nodes                                         Cuts/\n",
      "   Node  Left     Objective  IInf  Best Integer    Best Bound    ItCnt     Gap\n",
      "\n",
      "*     0+    0                            0.0000      407.0000              --- \n",
      "*     0+    0                          335.0000      407.0000            21.49%\n",
      "      0     0      339.7143     1      335.0000      339.7143        1    1.41%\n",
      "      0     0        cutoff            335.0000                      2     --- \n",
      "Elapsed time = 0.06 sec. (0.06 ticks, tree = 0.01 MB, solutions = 2)\n",
      "\n",
      "Root node processing (before b&c):\n",
      "  Real time             =    0.06 sec. (0.06 ticks)\n",
      "Parallel b&c, 4 threads:\n",
      "  Real time             =    0.00 sec. (0.00 ticks)\n",
      "  Sync time (average)   =    0.00 sec.\n",
      "  Wait time (average)   =    0.00 sec.\n",
      "                          ------------\n",
      "Total (root+branch&cut) =    0.06 sec. (0.06 ticks)\n",
      "x[0]=0.0\n",
      "x[1]=0.0\n",
      "x[2]=1.0\n",
      "x[3]=1.0\n",
      "x[4]=1.0\n",
      "x[5]=1.0\n",
      "x[6]=1.0\n",
      "x[7]=0.0\n",
      "x[8]=1.0\n",
      "x[9]=0.0\n",
      "Fración de los objetos que llevamos 0.6\n",
      "Valor objetivo 335.0\n"
     ]
    }
   ],
   "source": [
    "#######################\n",
    "# Ejemplo\n",
    "#######################\n",
    "    \n",
    "#Resolvemos el problema con n objetos\n",
    "n = 10\n",
    "\n",
    "#Se genera una instancia aleatoria con la función definida anteriormente\n",
    "u,v,V = generate_instance(n)\n",
    "\n",
    "\n",
    "#Se crea un modelo\n",
    "mod = mochila(n, V,u,v)\n",
    "\n",
    "#Se resuelve el modelo\n",
    "mod.solve()\n",
    "\n",
    "#Resultados\n",
    "for i in range(n):\n",
    "    print(\"x[{0}]={1}\".format(i,mod.solution.get_values(\"x[{0}]\".format(i))))\n",
    "    \n",
    "print('Fración de los objetos que llevamos',len([i for i in range(n) if mod.solution.get_values(\"x[{0}]\".format(i)) == 1])/n)\n",
    "\n",
    "#Valor objetivo\n",
    "print('Valor objetivo', mod.solution.get_objective_value())"
   ]
  },
  {
   "cell_type": "code",
   "execution_count": null,
   "metadata": {},
   "outputs": [],
   "source": []
  },
  {
   "cell_type": "code",
   "execution_count": null,
   "metadata": {},
   "outputs": [],
   "source": []
  }
 ],
 "metadata": {
  "kernelspec": {
   "display_name": "Python 3",
   "language": "python",
   "name": "python3"
  },
  "language_info": {
   "codemirror_mode": {
    "name": "ipython",
    "version": 3
   },
   "file_extension": ".py",
   "mimetype": "text/x-python",
   "name": "python",
   "nbconvert_exporter": "python",
   "pygments_lexer": "ipython3",
   "version": "3.6.5"
  }
 },
 "nbformat": 4,
 "nbformat_minor": 2
}
