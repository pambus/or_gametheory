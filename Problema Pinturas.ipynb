{
 "cells": [
  {
   "cell_type": "markdown",
   "metadata": {},
   "source": [
    "# Problema Pinturas (Ejemplo 2.1-1, Taha 2012)\n",
    "##### Autor: Pamela Bustamante"
   ]
  },
  {
   "cell_type": "markdown",
   "metadata": {},
   "source": [
    "Descripción del problema: Reddy Mikks produce pinturas para interiores y exteriores con dos materias primas, Pigmentos y Aglutinantes. Se desea determinar la combinación óptima de pinturas para interiores y exteriores que maximice la utilidad diaria total. Ver imagen de tabla que se encuentra en el repo.\n",
    "\n",
    "Condiciones adicionales:\n",
    "\n",
    "-Una encuesta de mercado indica que la demanda diaria de pintura para interiores no puede exceder la de pintura para exteriores en más de una tonelada.\n",
    "\n",
    "-Asimismo, la demanda diaria máxima de pintura para interiores es de dos kilos.\n"
   ]
  },
  {
   "cell_type": "markdown",
   "metadata": {},
   "source": [
    "#### Modelo\n",
    "\n",
    "\\begin{align*}\n",
    "& \\textbf{Variables} \\\\\n",
    "& x_1= \\text{Galones producidos diariamente de pintura para exteriores.} \\\\\n",
    "& x_2= \\text{Galones producidos diariamente de pintura para interiores.} \\\\[2ex]\n",
    "& \\textbf{Función Objetivo} \\\\\n",
    "& \\text{Máxima ganancia:} & \\max \\;  5000x_1 + 4000x_2 \\\\[2ex]\n",
    "& \\textbf{Restricciones} \\\\\n",
    "& \\text{Materia prima pigmentos:} & 6x_1+4x_2 \\le 24 \\\\\n",
    "& \\text{Materia prima aglutinantes:} & 1x_1+2x_2 \\le 6 \\\\\n",
    "& \\text{Encuesta 1:} & x_2 \\le x_1 + 1 \\\\\n",
    "& \\text{Encuesta 2:} & x_2 \\le 2 \\\\\n",
    "& \\text{No negatividad:} & x_1,x_2 \\ge 0 \n",
    "\\end{align*}"
   ]
  },
  {
   "cell_type": "code",
   "execution_count": 1,
   "metadata": {},
   "outputs": [],
   "source": [
    "import random\n",
    "import cplex  "
   ]
  },
  {
   "cell_type": "code",
   "execution_count": 2,
   "metadata": {},
   "outputs": [
    {
     "name": "stdout",
     "output_type": "stream",
     "text": [
      "Version identifier: 12.10.0.0 | 2019-11-27 | 843d4de2ae\n",
      "CPXPARAM_Read_DataCheck                          1\n",
      "Found incumbent of value 0.000000 after 0.00 sec. (0.00 ticks)\n",
      "Tried aggregator 1 time.\n",
      "MIP Presolve eliminated 2 rows and 0 columns.\n",
      "Reduced MIP has 2 rows, 2 columns, and 4 nonzeros.\n",
      "Reduced MIP has 0 binaries, 0 generals, 0 SOSs, and 0 indicators.\n",
      "Presolve time = 0.02 sec. (0.00 ticks)\n",
      "Tried aggregator 1 time.\n",
      "Reduced MIP has 2 rows, 2 columns, and 4 nonzeros.\n",
      "Reduced MIP has 0 binaries, 0 generals, 0 SOSs, and 0 indicators.\n",
      "Presolve time = 0.00 sec. (0.00 ticks)\n",
      "MIP emphasis: balance optimality and feasibility.\n",
      "MIP search method: dynamic search.\n",
      "Parallel mode: deterministic, using up to 4 threads.\n",
      "Root relaxation solution time = 0.00 sec. (0.00 ticks)\n",
      "\n",
      "        Nodes                                         Cuts/\n",
      "   Node  Left     Objective  IInf  Best Integer    Best Bound    ItCnt     Gap\n",
      "\n",
      "*     0+    0                            0.0000    28000.0000              --- \n",
      "*     0     0      integral     0    21000.0000    21000.0000        2    0.00%\n",
      "Elapsed time = 0.03 sec. (0.01 ticks, tree = 0.00 MB, solutions = 1)\n",
      "\n",
      "Root node processing (before b&c):\n",
      "  Real time             =    0.03 sec. (0.01 ticks)\n",
      "Parallel b&c, 4 threads:\n",
      "  Real time             =    0.00 sec. (0.00 ticks)\n",
      "  Sync time (average)   =    0.00 sec.\n",
      "  Wait time (average)   =    0.00 sec.\n",
      "                          ------------\n",
      "Total (root+branch&cut) =    0.03 sec. (0.01 ticks)\n",
      "x1=3.0\n",
      "x2=1.5\n",
      "Valor objetivo 21000.0\n"
     ]
    }
   ],
   "source": [
    "#Definición de modelo.\n",
    "model = cplex.Cplex() # Se crea un object model.\n",
    "model.set_problem_name(\"Knapsack\")\n",
    "\n",
    "#C = continuo\n",
    "#obj representa los coeficientes de las variables en la funcion objetivo\n",
    "#Valor obj por defecto= 0\n",
    "model.variables.add(names=[\"x1\",\"x2\"], types = ['C']*2, obj = [5000,4000])\n",
    "\n",
    "#Se declara que problema es de maximización. Por defecto, problema es de minimizacion\n",
    "model.objective.set_sense(model.objective.sense.maximize)\n",
    "\n",
    "#Se declaran restricciones\n",
    "model.linear_constraints.add(\n",
    "        lin_expr = [cplex.SparsePair(ind = [\"x1\", \"x2\"], val = [6.0, 4.0]),\n",
    "                    cplex.SparsePair(ind = [\"x1\", \"x2\"], val = [1.0, 2.0]),\n",
    "                    cplex.SparsePair(ind = [\"x1\", \"x2\"], val = [-1.0,1.0]),\n",
    "                    cplex.SparsePair(ind = [\"x1\", \"x2\"], val = [0.0, 1.0])],\n",
    "        senses = [\"L\", \"L\", \"L\", \"L\"],\n",
    "        rhs = [24.0, 6.0, 1.0, 2.0],\n",
    "        names = [\"c0\", \"c1\", \"c2\", \"c3\"])\n",
    "\n",
    "#Se resuelve el modelo\n",
    "model.solve()\n",
    "\n",
    "#Se muestran resultados de x1 y x2\n",
    "print(\"x1={0}\".format(model.solution.get_values(\"x1\")))\n",
    "print(\"x2={0}\".format(model.solution.get_values(\"x2\")))\n",
    "\n",
    "#Valor objetivo\n",
    "print('Valor objetivo', model.solution.get_objective_value())"
   ]
  }
 ],
 "metadata": {
  "kernelspec": {
   "display_name": "Python 3",
   "language": "python",
   "name": "python3"
  },
  "language_info": {
   "codemirror_mode": {
    "name": "ipython",
    "version": 3
   },
   "file_extension": ".py",
   "mimetype": "text/x-python",
   "name": "python",
   "nbconvert_exporter": "python",
   "pygments_lexer": "ipython3",
   "version": "3.6.5"
  }
 },
 "nbformat": 4,
 "nbformat_minor": 2
}
