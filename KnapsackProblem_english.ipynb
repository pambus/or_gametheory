{
 "cells": [
  {
   "cell_type": "markdown",
   "metadata": {},
   "source": [
    "# Knapsack Problem\n",
    "##### Author: Pamela Bustamante"
   ]
  },
  {
   "cell_type": "markdown",
   "metadata": {},
   "source": [
    "Problem description: We have $n$ items and a backpack of capacity $V$. Each item $i$ has a given utility $u_i$ and weight $v_i$. We want to choose which items to carry in the backpack, maximizing the obtained utility and without exceeding the capacity of the backpack.\n",
    "\n",
    "We will define an optimization model to solve this problem."
   ]
  },
  {
   "cell_type": "markdown",
   "metadata": {},
   "source": [
    "#### Variables definition\n",
    "\n",
    "$$ x_i=\\left\\{\n",
    "\\begin{array}{ll}\n",
    "      1 & \\text{If item i is placed in the backpack} \\\\\n",
    "      0 & \\text{In other case} \\\\\n",
    "\\end{array} \\; \\forall i \\in [0,...,n]\n",
    "\\right.  $$"
   ]
  },
  {
   "cell_type": "markdown",
   "metadata": {},
   "source": [
    "#### Optimization model\n",
    "\\begin{align}\n",
    "\\text{max } & \\sum_i u_i x_i \\\\\n",
    "\\text{s.a} & \\\\\n",
    "&\\sum_i v_i x_i \\le V & \\forall i \\in [0,...,n]\\\\\n",
    "& x_i \\in {0,1} & \\forall i \\in [0,...,n] \\\\\n",
    "\\end{align}"
   ]
  },
  {
   "cell_type": "markdown",
   "metadata": {},
   "source": [
    "#### Model in Python + Cplex"
   ]
  },
  {
   "cell_type": "code",
   "execution_count": 1,
   "metadata": {},
   "outputs": [],
   "source": [
    "import random\n",
    "import cplex  "
   ]
  },
  {
   "cell_type": "markdown",
   "metadata": {},
   "source": [
    "We define a function to generate weights and utilities of items"
   ]
  },
  {
   "cell_type": "code",
   "execution_count": 2,
   "metadata": {},
   "outputs": [],
   "source": [
    "def generate_instance(n):\n",
    "    #Utilities and weight of items and maximum backpack weight limit are defined. \n",
    "\n",
    "    u,v = {}, {}\n",
    "    for i in range(n):\n",
    "        u[i] = random.randint(0,100)\n",
    "        v[i] = random.randint(0,100)\n",
    "\n",
    "    C = random.uniform(0,1)*sum(v[i] for i in range(n))\n",
    "    return u,v,C\n"
   ]
  },
  {
   "cell_type": "markdown",
   "metadata": {},
   "source": [
    "Se define función para generar modelo"
   ]
  },
  {
   "cell_type": "code",
   "execution_count": 3,
   "metadata": {},
   "outputs": [],
   "source": [
    "def knapsack(n, V, u, v): \n",
    "\n",
    "    #Definition of model.\n",
    "    model = cplex.Cplex() # We create an object \"model\".\n",
    "    model.set_problem_name(\"Knapsack\")\n",
    "    \n",
    "    #B = binary\n",
    "    #obj represents the coeficients of the variables in the objective function\n",
    "    #obj value by default= 0\n",
    "    model.variables.add(names=[\"x[{0}]\".format(i) for i in range(n)], types = ['B']*n, obj = [u[i] for i in range(n)])\n",
    "    \n",
    "    #The problem is declared to be a maximization problem. By default, the problem is a minimization problem\n",
    "    model.objective.set_sense(model.objective.sense.maximize)\n",
    "\n",
    "    #We declare capacity constraints\n",
    "    coef = [v[i] for i in range(n)]  # coef and index must be of the same dimension, otherwise an error arises\n",
    "    indices = [\"x[{0}]\".format(i) for i in range(n)]\n",
    "    sumq = cplex.SparsePair(ind=indices,val=coef)  #we declare a linear expression\n",
    "    print(sumq)\n",
    "    print(V)\n",
    "    model.linear_constraints.add(lin_expr=[sumq],senses='L',rhs=[V]) # L is less or equal; G greater or equal; E equal\n",
    "    \n",
    "    return model\n"
   ]
  },
  {
   "cell_type": "markdown",
   "metadata": {},
   "source": [
    "Example of a knapsack problem"
   ]
  },
  {
   "cell_type": "code",
   "execution_count": 4,
   "metadata": {},
   "outputs": [
    {
     "name": "stdout",
     "output_type": "stream",
     "text": [
      "SparsePair(ind = ['x[0]', 'x[1]', 'x[2]', 'x[3]', 'x[4]', 'x[5]', 'x[6]', 'x[7]', 'x[8]', 'x[9]'], val = [64, 45, 4, 37, 76, 4, 79, 59, 70, 43])\n",
      "345.95071560199557\n",
      "Version identifier: 22.1.0.0 | 2022-03-25 | 54982fbec\n",
      "CPXPARAM_Read_DataCheck                          1\n",
      "Found incumbent of value 0.000000 after 0.00 sec. (0.00 ticks)\n",
      "Tried aggregator 1 time.\n",
      "MIP Presolve modified 1 coefficients.\n",
      "Reduced MIP has 1 rows, 10 columns, and 10 nonzeros.\n",
      "Reduced MIP has 10 binaries, 0 generals, 0 SOSs, and 0 indicators.\n",
      "Presolve time = 0.02 sec. (0.01 ticks)\n",
      "Probing time = 0.00 sec. (0.00 ticks)\n",
      "Tried aggregator 1 time.\n",
      "Reduced MIP has 1 rows, 10 columns, and 10 nonzeros.\n",
      "Reduced MIP has 10 binaries, 0 generals, 0 SOSs, and 0 indicators.\n",
      "Presolve time = 0.02 sec. (0.01 ticks)\n",
      "Probing time = 0.00 sec. (0.00 ticks)\n",
      "MIP emphasis: balance optimality and feasibility.\n",
      "MIP search method: dynamic search.\n",
      "Parallel mode: deterministic, using up to 4 threads.\n",
      "Root relaxation solution time = 0.00 sec. (0.00 ticks)\n",
      "\n",
      "        Nodes                                         Cuts/\n",
      "   Node  Left     Objective  IInf  Best Integer    Best Bound    ItCnt     Gap\n",
      "\n",
      "*     0+    0                            0.0000      472.0000              --- \n",
      "*     0+    0                          433.0000      472.0000             9.01%\n",
      "      0     0      443.8158     1      433.0000      443.8158        1    2.50%\n",
      "      0     0        cutoff            433.0000                      3     --- \n",
      "Elapsed time = 0.08 sec. (0.05 ticks, tree = 0.01 MB, solutions = 2)\n",
      "\n",
      "Root node processing (before b&c):\n",
      "  Real time             =    0.08 sec. (0.05 ticks)\n",
      "Parallel b&c, 4 threads:\n",
      "  Real time             =    0.00 sec. (0.00 ticks)\n",
      "  Sync time (average)   =    0.00 sec.\n",
      "  Wait time (average)   =    0.00 sec.\n",
      "                          ------------\n",
      "Total (root+branch&cut) =    0.08 sec. (0.05 ticks)\n",
      "x[0]=1.0\n",
      "x[1]=1.0\n",
      "x[2]=1.0\n",
      "x[3]=1.0\n",
      "x[4]=1.0\n",
      "x[5]=1.0\n",
      "x[6]=0.0\n",
      "x[7]=0.0\n",
      "x[8]=1.0\n",
      "x[9]=1.0\n",
      "Fraction of the objects we carry 0.8\n",
      "Objective function 433.0\n"
     ]
    }
   ],
   "source": [
    "#######################\n",
    "# Example\n",
    "#######################\n",
    "    \n",
    "#We solve the knapsack problem for n objects\n",
    "n = 10\n",
    "\n",
    "# We generate a random instance is generated with the previously defined function\n",
    "u,v,V = generate_instance(n)\n",
    "\n",
    "#We create a model\n",
    "mod = knapsack(n, V,u,v)\n",
    "\n",
    "#We solve a model\n",
    "mod.solve()\n",
    "\n",
    "#Results\n",
    "for i in range(n):\n",
    "    print(\"x[{0}]={1}\".format(i,mod.solution.get_values(\"x[{0}]\".format(i))))\n",
    "    \n",
    "print('Fraction of the objects we carry',len([i for i in range(n) if mod.solution.get_values(\"x[{0}]\".format(i)) == 1])/n)\n",
    "\n",
    "#Objective function\n",
    "print('Objective function', mod.solution.get_objective_value())"
   ]
  },
  {
   "cell_type": "code",
   "execution_count": null,
   "metadata": {},
   "outputs": [],
   "source": []
  },
  {
   "cell_type": "code",
   "execution_count": null,
   "metadata": {},
   "outputs": [],
   "source": []
  }
 ],
 "metadata": {
  "kernelspec": {
   "display_name": "Python 3",
   "language": "python",
   "name": "python3"
  },
  "language_info": {
   "codemirror_mode": {
    "name": "ipython",
    "version": 3
   },
   "file_extension": ".py",
   "mimetype": "text/x-python",
   "name": "python",
   "nbconvert_exporter": "python",
   "pygments_lexer": "ipython3",
   "version": "3.7.8"
  }
 },
 "nbformat": 4,
 "nbformat_minor": 2
}
